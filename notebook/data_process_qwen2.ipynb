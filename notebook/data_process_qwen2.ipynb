{
 "cells": [
  {
   "cell_type": "markdown",
   "id": "a48b2345-0e9f-4f7f-8fde-aeee320cb6f6",
   "metadata": {},
   "source": [
    "# data process\n",
    "将APE210数据转换成符合qwen2微调需要的格式\n",
    "\n",
    "```\n",
    "{\n",
    "    \"type\": \"chatml\",\n",
    "    \"messages\": [\n",
    "        {\n",
    "            \"role\": \"system\",\n",
    "            \"content\": \"You are a helpful assistant.\"\n",
    "        },\n",
    "        {\n",
    "            \"role\": \"user\",\n",
    "            \"content\": \"What is your name?\"\n",
    "        },\n",
    "        {\n",
    "            \"role\": \"assistant\",\n",
    "            \"content\": \"My name is Qwen.\"\n",
    "        }\n",
    "    ],\n",
    "    \"source\": \"self-made\"\n",
    "}\n",
    "```"
   ]
  },
  {
   "cell_type": "code",
   "execution_count": 1,
   "id": "8ccc4427-d69b-44eb-a1b5-ea980111e6c1",
   "metadata": {},
   "outputs": [],
   "source": [
    "import json"
   ]
  },
  {
   "cell_type": "code",
   "execution_count": 2,
   "id": "62d9b2cf-33cb-4bc1-85b6-90ea9ab3d036",
   "metadata": {},
   "outputs": [],
   "source": [
    "train_origin_path = \"data/APE210K/data/train.ape.json\"\n",
    "test_origin_path = \"data/APE210K/data/test.ape.json\"\n",
    "valid_origin_path = \"data/APE210K/data/valid.ape.json\""
   ]
  },
  {
   "cell_type": "code",
   "execution_count": 6,
   "id": "ec2e91df-1ca2-4c03-ad22-9d845e796213",
   "metadata": {},
   "outputs": [],
   "source": [
    "template = {\n",
    "    \"type\": \"chatml\",\n",
    "    \"messages\": [\n",
    "        {\n",
    "            \"role\": \"system\",\n",
    "            \"content\": \"你是一位小学数学专家，能够帮助学生解决数学难题，提高数学能力，轻松掌握数学知识。\"\n",
    "        },\n",
    "        {\n",
    "            \"role\": \"user\",\n",
    "            \"content\": \"数学题目：{{original_text}}\"\n",
    "        },\n",
    "        {\n",
    "            \"role\": \"assistant\",\n",
    "            \"content\": \"答案是：{{ans}}\\n计算公式：{{equation}}\"\n",
    "        }\n",
    "    ],\n",
    "    \"source\": \"self-made\"\n",
    "}\n",
    "\n",
    "def populate_template(data_item, template):\n",
    "    # 将数据填充到模板中\n",
    "    populated_template = json.loads(json.dumps(template))  # 深拷贝模板\n",
    "    for message in populated_template['messages']:\n",
    "        if '{{original_text}}' in message['content']:\n",
    "            message['content'] = message['content'].replace('{{original_text}}', data_item['original_text'])\n",
    "        if '{{ans}}' in message['content']:\n",
    "            message['content'] = message['content'].replace('{{ans}}', data_item['ans'])\n",
    "        if '{{equation}}' in message['content']:\n",
    "            message['content'] = message['content'].replace('{{equation}}', data_item['equation'])\n",
    "    return populated_template\n",
    "\n",
    "\n",
    "def formate_data(path):\n",
    "    new_data = []\n",
    "    with open(path, \"r\", encoding=\"UTF-8\") as f:\n",
    "        for line in f:\n",
    "            line_item = json.loads(line)\n",
    "            new_item = populate_template(line_item, template)\n",
    "            new_data.append(new_item)\n",
    "    return new_data\n",
    "\n",
    "\n",
    "def save_formate_data(path, samples, n=-1):\n",
    "    with open(path, 'w', encoding='utf-8') as f:\n",
    "        if n == -1:\n",
    "            n = len(samples)\n",
    "        for sample in samples[:n]:\n",
    "            f.write(json.dumps(sample, ensure_ascii=False) + '\\n')"
   ]
  },
  {
   "cell_type": "code",
   "execution_count": 4,
   "id": "92754273-9c89-4869-a636-e01b509fd6b5",
   "metadata": {},
   "outputs": [],
   "source": [
    "new_train = formate_data(train_origin_path)\n",
    "new_test = formate_data(test_origin_path)\n",
    "new_valid = formate_data(valid_origin_path)"
   ]
  },
  {
   "cell_type": "code",
   "execution_count": 9,
   "id": "4efccbc5-7d62-4710-b110-4b1a04dd029f",
   "metadata": {},
   "outputs": [],
   "source": [
    "save_formate_data('data/APE210K-qwen2/train.jsonl', new_train)\n",
    "save_formate_data('data/APE210K-qwen2/test.jsonl', new_test)\n",
    "save_formate_data('data/APE210K-qwen2/valid.jsonl', new_valid)"
   ]
  },
  {
   "cell_type": "code",
   "execution_count": 8,
   "id": "b018be5b-b1ee-44f5-b610-c78cbc6c7b82",
   "metadata": {},
   "outputs": [],
   "source": [
    "save_formate_data('data/APE210K-qwen2-mini/train.jsonl', new_train, n=2000)\n",
    "save_formate_data('data/APE210K-qwen2-mini/test.jsonl', new_test, n=500)\n",
    "save_formate_data('data/APE210K-qwen2-mini/valid.jsonl', new_valid, n=500)"
   ]
  },
  {
   "cell_type": "code",
   "execution_count": null,
   "id": "fadd04aa-af2f-4cae-8815-7ef950c108fd",
   "metadata": {},
   "outputs": [],
   "source": []
  }
 ],
 "metadata": {
  "kernelspec": {
   "display_name": "Python 3 (ipykernel)",
   "language": "python",
   "name": "python3"
  },
  "language_info": {
   "codemirror_mode": {
    "name": "ipython",
    "version": 3
   },
   "file_extension": ".py",
   "mimetype": "text/x-python",
   "name": "python",
   "nbconvert_exporter": "python",
   "pygments_lexer": "ipython3",
   "version": "3.11.5"
  }
 },
 "nbformat": 4,
 "nbformat_minor": 5
}
